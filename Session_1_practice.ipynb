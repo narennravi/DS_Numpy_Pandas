{
  "nbformat": 4,
  "nbformat_minor": 0,
  "metadata": {
    "colab": {
      "provenance": []
    },
    "kernelspec": {
      "name": "python3",
      "display_name": "Python 3"
    },
    "language_info": {
      "name": "python"
    }
  },
  "cells": [
    {
      "cell_type": "markdown",
      "source": [
        "# List=[]"
      ],
      "metadata": {
        "id": "LmnMFhRf5m5f"
      }
    },
    {
      "cell_type": "code",
      "execution_count": null,
      "metadata": {
        "colab": {
          "base_uri": "https://localhost:8080/"
        },
        "id": "5NQFuKaaOx0b",
        "outputId": "a4c93425-4f40-4aaf-f2b1-3f00e82144b7"
      },
      "outputs": [
        {
          "output_type": "stream",
          "name": "stdout",
          "text": [
            "[1, 2, 3, 4, 5, 6, 7, 8]\n",
            "\n",
            "\n"
          ]
        },
        {
          "output_type": "execute_result",
          "data": {
            "text/plain": [
              "[1, 2, 3, 4, 5, 6, 7, 8]"
            ]
          },
          "metadata": {},
          "execution_count": 5
        }
      ],
      "source": [
        "# normal format of List initialization\n",
        "a = [1,2,3,4,5,6,7,8]\n",
        "print(a)\n",
        "\n",
        "print(\"\\n\")\n",
        "\n",
        "# using for loop in list=\"a\"\n",
        "[i for i in a]"
      ]
    },
    {
      "cell_type": "code",
      "source": [
        "# In List comprehension --> using 'for loop' & 'if-else' condition\n",
        "['High' if i>6   else 'low' if i<3   else 'Mid'   for i in a]\n",
        "\n",
        "\n",
        "#NOTE:\n",
        "# list comprehension does not support elif \n",
        "# Supports only if,else and for"
      ],
      "metadata": {
        "colab": {
          "base_uri": "https://localhost:8080/"
        },
        "id": "L5JF6IlnQdyE",
        "outputId": "9a4ab2a5-2db4-41ee-e1df-0a2ef1cbcb02"
      },
      "execution_count": null,
      "outputs": [
        {
          "output_type": "execute_result",
          "data": {
            "text/plain": [
              "['low', 'low', 'Mid', 'Mid', 'Mid', 'Mid', 'High', 'High']"
            ]
          },
          "metadata": {},
          "execution_count": 7
        }
      ]
    },
    {
      "cell_type": "code",
      "source": [
        "# BMI calculator using lambda-function through mapping\n",
        "weight = [67, 95, 45, 50, 38]\n",
        "height = [1.65, 1.74, 1.60, 1.40, 1.50]\n",
        "\n",
        "list(map(lambda x,y : x/y**2, weight, height))\n",
        "                 #or\n",
        "list(map(lambda weight,height : weight/height**2, weight, height))\n",
        "\n",
        "\n",
        "#NOTE:\n",
        "# bmi=weight/height**2 \n",
        "# we use map-function to refer x=weight y=height\n",
        "# we use list to get o/p in form of list "
      ],
      "metadata": {
        "colab": {
          "base_uri": "https://localhost:8080/"
        },
        "id": "t06gJeaMRpN6",
        "outputId": "4a8551f6-79a4-4f25-81b6-bddb486bf8eb"
      },
      "execution_count": null,
      "outputs": [
        {
          "output_type": "execute_result",
          "data": {
            "text/plain": [
              "[24.609733700642796,\n",
              " 31.37798916633637,\n",
              " 17.578124999999996,\n",
              " 25.510204081632658,\n",
              " 16.88888888888889]"
            ]
          },
          "metadata": {},
          "execution_count": 15
        }
      ]
    },
    {
      "cell_type": "markdown",
      "source": [
        "#-----------------------------------------------------------------------------------\n",
        "#                  Pandas \n",
        "### #series (1d)     --> only 1 column\n",
        "### #data_frame (2d) --> more than 2 columns\n",
        "\n",
        "1. Pandas were capable of holding any data type.\n",
        "2. However, Series is sequence of: similar data type, \n",
        "similar to array,list or column in table "
      ],
      "metadata": {
        "id": "mIXdwEquWTIw"
      }
    },
    {
      "cell_type": "code",
      "source": [
        "number = range(1,100)\n",
        "\n",
        "import pandas as pd\n",
        "pd.Series(number)\n",
        "\n",
        "\n",
        "#NOTE:\n",
        "# It gives index as 0,1,2..98 for range 1,2,3,..99 in form of Series"
      ],
      "metadata": {
        "colab": {
          "base_uri": "https://localhost:8080/"
        },
        "id": "wCeyQIC7X_WP",
        "outputId": "02da0ddf-2234-4606-bf3a-69c7a05abd5c"
      },
      "execution_count": null,
      "outputs": [
        {
          "output_type": "execute_result",
          "data": {
            "text/plain": [
              "0      1\n",
              "1      2\n",
              "2      3\n",
              "3      4\n",
              "4      5\n",
              "      ..\n",
              "94    95\n",
              "95    96\n",
              "96    97\n",
              "97    98\n",
              "98    99\n",
              "Length: 99, dtype: int64"
            ]
          },
          "metadata": {},
          "execution_count": 17
        }
      ]
    },
    {
      "cell_type": "code",
      "source": [
        "a = [\"Hello\", 98, True, 59.874, 'Python']\n",
        "b = pd.Series(a)\n",
        "b\n",
        "\n",
        "#NOTE: \n",
        "# pandas were capable of holding any data-type : int,char,float,boolean,etc..,  "
      ],
      "metadata": {
        "colab": {
          "base_uri": "https://localhost:8080/"
        },
        "id": "-vYjwdTWbF6R",
        "outputId": "6d5b8d38-6194-4657-d3aa-2dde34df8fbd"
      },
      "execution_count": null,
      "outputs": [
        {
          "output_type": "execute_result",
          "data": {
            "text/plain": [
              "0     Hello\n",
              "1        98\n",
              "2      True\n",
              "3    59.874\n",
              "4    Python\n",
              "dtype: object"
            ]
          },
          "metadata": {},
          "execution_count": 25
        }
      ]
    },
    {
      "cell_type": "code",
      "source": [
        "b[4]\n",
        "\n",
        "#NOTE:\n",
        "# By indexing list we access particular data\n",
        "# INDEX always starts from 0 "
      ],
      "metadata": {
        "colab": {
          "base_uri": "https://localhost:8080/",
          "height": 36
        },
        "id": "eieuvaCzcva9",
        "outputId": "b01ed7e5-391a-49fb-8514-ca67de350355"
      },
      "execution_count": null,
      "outputs": [
        {
          "output_type": "execute_result",
          "data": {
            "text/plain": [
              "'Python'"
            ],
            "application/vnd.google.colaboratory.intrinsic+json": {
              "type": "string"
            }
          },
          "metadata": {},
          "execution_count": 26
        }
      ]
    },
    {
      "cell_type": "code",
      "source": [
        "import pandas as pd\n",
        "Subject = [\"Maths\", \"Science\", \"Tamil\", \"English\", \"Social\"]\n",
        "mark = [98, 99, 89, 91, 95]\n",
        "pd.Series(mark, index = Subject)\n",
        "\n",
        "#NOTE:\n",
        "# we informing \"pandas_Series\" to take index=Subject "
      ],
      "metadata": {
        "colab": {
          "base_uri": "https://localhost:8080/"
        },
        "id": "0kAPsfm-drX0",
        "outputId": "5631391c-0188-4732-86fa-670a81c7e370"
      },
      "execution_count": null,
      "outputs": [
        {
          "output_type": "execute_result",
          "data": {
            "text/plain": [
              "Maths      98\n",
              "Science    99\n",
              "Tamil      89\n",
              "English    91\n",
              "Social     95\n",
              "dtype: int64"
            ]
          },
          "metadata": {},
          "execution_count": 8
        }
      ]
    },
    {
      "cell_type": "code",
      "source": [
        "Subject = [\"Maths\", \"Science\", \"Tamil\", \"English\", \"Social\", \"Hindi\"]\n",
        "mark = [98, 99, 89, 91, 95]\n",
        "for i,j in zip(Subject,mark):\n",
        "  print(i,j)\n",
        "\n",
        "#NOTE:\n",
        "# To avoid value error: len of value does not match len of index \n",
        "# we used \"zip-function\" --> Truncate/avoid the last value=hindi where we didn't give mark"
      ],
      "metadata": {
        "colab": {
          "base_uri": "https://localhost:8080/"
        },
        "id": "Y_4jfiJpf80u",
        "outputId": "a6afb1c2-f5b0-471c-e06a-b4b23e1c53d3"
      },
      "execution_count": null,
      "outputs": [
        {
          "output_type": "stream",
          "name": "stdout",
          "text": [
            "Maths 98\n",
            "Science 99\n",
            "Tamil 89\n",
            "English 91\n",
            "Social 95\n"
          ]
        }
      ]
    },
    {
      "cell_type": "markdown",
      "source": [
        "#-----------------------------------------------------------------------------------\n",
        "# **Dataframe (df)**"
      ],
      "metadata": {
        "id": "UWxwRHyg31jN"
      }
    },
    {
      "cell_type": "code",
      "source": [
        "import pandas as pd\n",
        "Subject = [\"Maths\", \"Science\", \"Tamil\", \"English\", \"Social\"]\n",
        "mark = [98, 99, 89, 91, 95]\n",
        "df = pd.Series(mark, index = Subject)\n",
        "\n",
        "#NOTE:\n",
        "# we assign df to panda series "
      ],
      "metadata": {
        "colab": {
          "base_uri": "https://localhost:8080/"
        },
        "id": "Mgvb-80T2-DU",
        "outputId": "c5b8d9a6-afed-4e77-e7bb-8f80e3b74f15"
      },
      "execution_count": null,
      "outputs": [
        {
          "output_type": "execute_result",
          "data": {
            "text/plain": [
              "array([98, 99, 89, 91, 95])"
            ]
          },
          "metadata": {},
          "execution_count": 11
        }
      ]
    },
    {
      "cell_type": "code",
      "source": [
        "df.index\n",
        "\n",
        "#NOTE:\n",
        "# To know index of table we call --> \"df.index\"\n",
        "# subject as index"
      ],
      "metadata": {
        "colab": {
          "base_uri": "https://localhost:8080/"
        },
        "id": "GOD1mIRV3RyR",
        "outputId": "b0ee55b4-706e-4e27-add8-b0da18f0bd68"
      },
      "execution_count": null,
      "outputs": [
        {
          "output_type": "execute_result",
          "data": {
            "text/plain": [
              "Index(['Maths', 'Science', 'Tamil', 'English', 'Social'], dtype='object')"
            ]
          },
          "metadata": {},
          "execution_count": 10
        }
      ]
    },
    {
      "cell_type": "code",
      "source": [
        "df.values\n",
        "\n",
        "#NOTE:\n",
        "# To know value of table we call --> \"df.value\"\n",
        "# mark as value"
      ],
      "metadata": {
        "colab": {
          "base_uri": "https://localhost:8080/"
        },
        "id": "Tn_4OPP93muo",
        "outputId": "daefe370-d759-41a5-97db-a2965772840a"
      },
      "execution_count": null,
      "outputs": [
        {
          "output_type": "execute_result",
          "data": {
            "text/plain": [
              "array([98, 99, 89, 91, 95])"
            ]
          },
          "metadata": {},
          "execution_count": 12
        }
      ]
    },
    {
      "cell_type": "markdown",
      "source": [
        "#-----------------------------------------------------------------------------------\n",
        "# **Dictionaries = {\"key\" : \"val\"}**"
      ],
      "metadata": {
        "id": "PlmvVGuJ6b2x"
      }
    },
    {
      "cell_type": "code",
      "source": [
        "b = {\"Math\":\"98\", \"Science\":\"99\", \"Social\":\"95\"}\n",
        "#for i in b.keys():         #Print \"keys\" of Dict = b\n",
        "#  print(i)\n",
        "\n",
        "#for i in b.values():       #Print \"Values\" of Dict = b\n",
        "#  print(i)\n",
        "\n",
        "for i in b.items():         #Print \"items\" of Dict = b\n",
        "   print(i)"
      ],
      "metadata": {
        "colab": {
          "base_uri": "https://localhost:8080/"
        },
        "id": "bLCCUQx_6Zlo",
        "outputId": "c477b566-67d3-4f68-db7d-95ac40bf0e34"
      },
      "execution_count": null,
      "outputs": [
        {
          "output_type": "stream",
          "name": "stdout",
          "text": [
            "('Math', '98')\n",
            "('Science', '99')\n",
            "('Social', '95')\n"
          ]
        }
      ]
    },
    {
      "cell_type": "code",
      "source": [
        "b = {\"Math\":\"98\", \"Science\":\"99\", \"Social\":\"95\"}\n",
        "pd.Series(b)\n",
        "\n",
        "#NOTE:\n",
        "# From dictionary(b) key --> index and value --> value\n",
        "# pd.Series(b) display dict in form of Series"
      ],
      "metadata": {
        "colab": {
          "base_uri": "https://localhost:8080/"
        },
        "id": "ov3H-ALU8HAK",
        "outputId": "2716fd72-f0e6-4311-94c1-8a2f029f5973"
      },
      "execution_count": null,
      "outputs": [
        {
          "output_type": "execute_result",
          "data": {
            "text/plain": [
              "Math       98\n",
              "Science    99\n",
              "Social     95\n",
              "dtype: object"
            ]
          },
          "metadata": {},
          "execution_count": 19
        }
      ]
    },
    {
      "cell_type": "markdown",
      "source": [
        "#-----------------------------------------------------------------------------------\n",
        "# **Numpy**"
      ],
      "metadata": {
        "id": "7Q3OPZadA63x"
      }
    },
    {
      "cell_type": "markdown",
      "source": [
        "### *What is Diff b/w \"Numpy array' & 'Normal array'..?*\n",
        "\n",
        "Numpy array is faster than normal array.\n",
        "Moreover the structures were same in both.\n",
        "\n",
        "Execution:\n",
        "  > array --> 5 seconds\n",
        "\n",
        "  > Numpy array --> few milli Seconds\n",
        "\n",
        "\n",
        "Example : 1\n",
        "\n",
        "\n"
      ],
      "metadata": {
        "id": "hCslD6rGDxj7"
      }
    },
    {
      "cell_type": "code",
      "source": [
        "import numpy as np\n",
        "np.random.randint(1111,9999,1)\n",
        "\n",
        "#NOTE:\n",
        "# to get 1 random integer with-in 1111 to 9999\n",
        "# similar as OTP generation"
      ],
      "metadata": {
        "colab": {
          "base_uri": "https://localhost:8080/"
        },
        "id": "jBF2zw1CBDbI",
        "outputId": "69bdeb99-4652-4cae-eca2-4bd3525c4771"
      },
      "execution_count": null,
      "outputs": [
        {
          "output_type": "execute_result",
          "data": {
            "text/plain": [
              "array([8570])"
            ]
          },
          "metadata": {},
          "execution_count": 21
        }
      ]
    },
    {
      "cell_type": "code",
      "source": [
        "import pandas as pd\n",
        "a = [\"English\", \"Tamil\", \"Maths\", \"Science\", \"Social\"]\n",
        "dic = {\"English\":91, \"Tamil\":89, \"Maths\":98, \"Science\":99}\n",
        "df = pd.Series(dic, index = a)\n",
        "df\n",
        "\n",
        "#NOTE:\n",
        "# list --> 5 subjects & dict --> 4 subj-marks\n",
        "# Here by Assign'g df we request to print all series value(Even missing_data also inclded)"
      ],
      "metadata": {
        "colab": {
          "base_uri": "https://localhost:8080/"
        },
        "id": "lB5jesrw6R3z",
        "outputId": "d68c91b8-44b7-4ec3-c22a-2358bf0517df"
      },
      "execution_count": null,
      "outputs": [
        {
          "output_type": "execute_result",
          "data": {
            "text/plain": [
              "English    91.0\n",
              "Tamil      89.0\n",
              "Maths      98.0\n",
              "Science    99.0\n",
              "Social      NaN\n",
              "dtype: float64"
            ]
          },
          "metadata": {},
          "execution_count": 5
        }
      ]
    },
    {
      "cell_type": "code",
      "source": [
        "df.isnull()\n",
        "\n",
        "#NOTE:\n",
        "# It diplays whether series having \"Null value = True\" (or) \"No Null value = False\""
      ],
      "metadata": {
        "colab": {
          "base_uri": "https://localhost:8080/"
        },
        "id": "XR03McLB-rZZ",
        "outputId": "eb63f7ec-a3af-480d-f766-9a9e94bed8ce"
      },
      "execution_count": null,
      "outputs": [
        {
          "output_type": "execute_result",
          "data": {
            "text/plain": [
              "English    False\n",
              "Tamil      False\n",
              "Maths      False\n",
              "Science    False\n",
              "Social      True\n",
              "dtype: bool"
            ]
          },
          "metadata": {},
          "execution_count": 6
        }
      ]
    },
    {
      "cell_type": "code",
      "source": [
        "df.isnull().sum()\n",
        "\n",
        "#NOTE:\n",
        "# Displays how many null-value are present inside series..?"
      ],
      "metadata": {
        "colab": {
          "base_uri": "https://localhost:8080/"
        },
        "id": "rf-vsHro_oRv",
        "outputId": "ae60aec3-75ee-4958-cbaf-6e8b9104dcbd"
      },
      "execution_count": null,
      "outputs": [
        {
          "output_type": "execute_result",
          "data": {
            "text/plain": [
              "1"
            ]
          },
          "metadata": {},
          "execution_count": 8
        }
      ]
    },
    {
      "cell_type": "code",
      "source": [
        "df[df > 97]\n",
        "\n",
        "#NOTE:\n",
        "# Used to shortlist & display value based on condition --> i.e., subject mark > 97 [gets printed]"
      ],
      "metadata": {
        "colab": {
          "base_uri": "https://localhost:8080/"
        },
        "id": "-1ilgOZ7ARxF",
        "outputId": "1bebf8b2-8c32-471f-9ae0-ef61b7788c63"
      },
      "execution_count": null,
      "outputs": [
        {
          "output_type": "execute_result",
          "data": {
            "text/plain": [
              "Maths      98.0\n",
              "Science    99.0\n",
              "dtype: float64"
            ]
          },
          "metadata": {},
          "execution_count": 10
        }
      ]
    },
    {
      "cell_type": "code",
      "source": [
        "df"
      ],
      "metadata": {
        "colab": {
          "base_uri": "https://localhost:8080/"
        },
        "id": "C9FAFLHlDi32",
        "outputId": "0ab2a466-9724-455e-b53c-da9b9c58793f"
      },
      "execution_count": null,
      "outputs": [
        {
          "output_type": "execute_result",
          "data": {
            "text/plain": [
              "English    91.0\n",
              "Tamil      89.0\n",
              "Maths      98.0\n",
              "Science    99.0\n",
              "Social      NaN\n",
              "dtype: float64"
            ]
          },
          "metadata": {},
          "execution_count": 11
        }
      ]
    },
    {
      "cell_type": "code",
      "source": [
        "df[\"Social\"] = 95\n",
        "df\n",
        "\n",
        "#NOTE:\n",
        "# Previous Social has Null value\n",
        "# Here we updating \"Socail\" mark ---as---> 95 "
      ],
      "metadata": {
        "colab": {
          "base_uri": "https://localhost:8080/"
        },
        "id": "EbfOXLVyEYE4",
        "outputId": "a518bca7-0b58-419a-8720-0ed49f812303"
      },
      "execution_count": null,
      "outputs": [
        {
          "output_type": "execute_result",
          "data": {
            "text/plain": [
              "English    91.0\n",
              "Tamil      89.0\n",
              "Maths      98.0\n",
              "Science    99.0\n",
              "Social     95.0\n",
              "dtype: float64"
            ]
          },
          "metadata": {},
          "execution_count": 14
        }
      ]
    },
    {
      "cell_type": "markdown",
      "source": [
        "**## Example : 2**\n",
        "\n",
        "# < head, tail, min, max, var, std, mean > "
      ],
      "metadata": {
        "id": "UBDbuxIzGS5K"
      }
    },
    {
      "cell_type": "code",
      "source": [
        "import pandas as pd\n",
        "df = pd.Series(range(1,100,5))\n",
        "df\n",
        "\n",
        "#NOTE:\n",
        "# 1st column --> serial number (count)\n",
        "# 2nd column --> df [start:stop:step]"
      ],
      "metadata": {
        "colab": {
          "base_uri": "https://localhost:8080/"
        },
        "id": "GiNejk82GV8g",
        "outputId": "c4edb13c-1721-427e-ef68-0e0d625d9ed0"
      },
      "execution_count": null,
      "outputs": [
        {
          "output_type": "execute_result",
          "data": {
            "text/plain": [
              "0      1\n",
              "1      6\n",
              "2     11\n",
              "3     16\n",
              "4     21\n",
              "5     26\n",
              "6     31\n",
              "7     36\n",
              "8     41\n",
              "9     46\n",
              "10    51\n",
              "11    56\n",
              "12    61\n",
              "13    66\n",
              "14    71\n",
              "15    76\n",
              "16    81\n",
              "17    86\n",
              "18    91\n",
              "19    96\n",
              "dtype: int64"
            ]
          },
          "metadata": {},
          "execution_count": 15
        }
      ]
    },
    {
      "cell_type": "code",
      "source": [
        "df.head(5)\n",
        "\n",
        "#NOTE:\n",
        "# Displays [head(5) --> 1st five value] from series"
      ],
      "metadata": {
        "colab": {
          "base_uri": "https://localhost:8080/"
        },
        "id": "iRnXPtXgHMOy",
        "outputId": "33987031-df1a-4cf5-a7e5-f7a81435ef24"
      },
      "execution_count": null,
      "outputs": [
        {
          "output_type": "execute_result",
          "data": {
            "text/plain": [
              "0     1\n",
              "1     6\n",
              "2    11\n",
              "3    16\n",
              "4    21\n",
              "dtype: int64"
            ]
          },
          "metadata": {},
          "execution_count": 16
        }
      ]
    },
    {
      "cell_type": "code",
      "source": [
        "df.tail(5)\n",
        "\n",
        "#NOTE:\n",
        "# Displays [tail(5) --> last five value] from series"
      ],
      "metadata": {
        "colab": {
          "base_uri": "https://localhost:8080/"
        },
        "id": "YdcU3QZqH3bw",
        "outputId": "56d528e6-7c72-400e-d8c8-c394878ba9a5"
      },
      "execution_count": null,
      "outputs": [
        {
          "output_type": "execute_result",
          "data": {
            "text/plain": [
              "15    76\n",
              "16    81\n",
              "17    86\n",
              "18    91\n",
              "19    96\n",
              "dtype: int64"
            ]
          },
          "metadata": {},
          "execution_count": 17
        }
      ]
    },
    {
      "cell_type": "code",
      "source": [
        "df.min()\n",
        "\n",
        "#NOTE:\n",
        "# Displays [min --> minimum value] from series"
      ],
      "metadata": {
        "colab": {
          "base_uri": "https://localhost:8080/"
        },
        "id": "YJgXcE9tIEqw",
        "outputId": "d80b0372-94e7-40f4-e8af-c6e81b416d09"
      },
      "execution_count": null,
      "outputs": [
        {
          "output_type": "execute_result",
          "data": {
            "text/plain": [
              "1"
            ]
          },
          "metadata": {},
          "execution_count": 20
        }
      ]
    },
    {
      "cell_type": "code",
      "source": [
        "df.max()\n",
        "\n",
        "#NOTE:\n",
        "# Displays [max --> maximum value] from series"
      ],
      "metadata": {
        "colab": {
          "base_uri": "https://localhost:8080/"
        },
        "id": "_UPPjaWIISdW",
        "outputId": "a9d73c5b-de37-4a3a-ef48-35b4a0dbcdb1"
      },
      "execution_count": null,
      "outputs": [
        {
          "output_type": "execute_result",
          "data": {
            "text/plain": [
              "96"
            ]
          },
          "metadata": {},
          "execution_count": 21
        }
      ]
    },
    {
      "cell_type": "code",
      "source": [
        "df.mean()\n",
        "\n",
        "#NOTE:\n",
        "# Displays [mean() ---> Calculates Mean value] from series"
      ],
      "metadata": {
        "colab": {
          "base_uri": "https://localhost:8080/"
        },
        "id": "xWTvQJq_Ibkm",
        "outputId": "ffe7cfc0-01cc-4838-d7b4-ba44979c312d"
      },
      "execution_count": null,
      "outputs": [
        {
          "output_type": "execute_result",
          "data": {
            "text/plain": [
              "48.5"
            ]
          },
          "metadata": {},
          "execution_count": 22
        }
      ]
    },
    {
      "cell_type": "code",
      "source": [
        "df.std()\n",
        "\n",
        "#NOTE:\n",
        "# Displays [std() ---> Calculates standard variance] from series"
      ],
      "metadata": {
        "colab": {
          "base_uri": "https://localhost:8080/"
        },
        "id": "BBQwmzrlIt6o",
        "outputId": "42e221df-009f-4d08-ad87-092af82f5bc5"
      },
      "execution_count": null,
      "outputs": [
        {
          "output_type": "execute_result",
          "data": {
            "text/plain": [
              "29.58039891549808"
            ]
          },
          "metadata": {},
          "execution_count": 23
        }
      ]
    },
    {
      "cell_type": "code",
      "source": [
        "df.var()\n",
        "\n",
        "#NOTE:\n",
        "# Displays [var() --->Calculates variance] from series"
      ],
      "metadata": {
        "colab": {
          "base_uri": "https://localhost:8080/"
        },
        "id": "zGcPDSyOJA4v",
        "outputId": "79b5a48d-207a-4bf3-c82d-70af4b7f5ee8"
      },
      "execution_count": null,
      "outputs": [
        {
          "output_type": "execute_result",
          "data": {
            "text/plain": [
              "875.0"
            ]
          },
          "metadata": {},
          "execution_count": 24
        }
      ]
    },
    {
      "cell_type": "markdown",
      "source": [
        "# **iloc and loc**\n",
        "\n",
        "1. iloc: Modifying an series --> index position\n",
        "\n",
        "\n",
        "2.  loc: Modifying an series --> direct index name\n",
        "\n",
        "\n",
        "\n",
        "\n",
        "\n",
        "\n",
        "\n",
        "\n",
        "\n",
        "\n",
        "\n"
      ],
      "metadata": {
        "id": "Vpbw0SJjJqE7"
      }
    },
    {
      "cell_type": "code",
      "source": [
        "import pandas as pd\n",
        "Subject = [\"Maths\", \"Science\", \"Tamil\", \"English\", \"Social\"]\n",
        "mark = [98, 99, 89, 91, 95]\n",
        "df = pd.Series(mark, index = Subject)\n",
        "df"
      ],
      "metadata": {
        "colab": {
          "base_uri": "https://localhost:8080/"
        },
        "id": "VuRvpcgXJLaB",
        "outputId": "1ff0d0ea-c89a-4720-f6f3-97d56c731634"
      },
      "execution_count": null,
      "outputs": [
        {
          "output_type": "execute_result",
          "data": {
            "text/plain": [
              "Maths      98\n",
              "Science    99\n",
              "Tamil      89\n",
              "English    91\n",
              "Social     95\n",
              "dtype: int64"
            ]
          },
          "metadata": {},
          "execution_count": 28
        }
      ]
    },
    {
      "cell_type": "code",
      "source": [
        "df.iloc[1:]\n",
        "\n",
        "#NOTE:\n",
        "# It displays value from 1st index[1:] to last"
      ],
      "metadata": {
        "colab": {
          "base_uri": "https://localhost:8080/"
        },
        "id": "Eof3y9BwLuh-",
        "outputId": "5ff2c9c9-5a74-4ffc-c880-874b131778f2"
      },
      "execution_count": null,
      "outputs": [
        {
          "output_type": "execute_result",
          "data": {
            "text/plain": [
              "Science    99\n",
              "Tamil      89\n",
              "English    91\n",
              "Social     95\n",
              "dtype: int64"
            ]
          },
          "metadata": {},
          "execution_count": 30
        }
      ]
    },
    {
      "cell_type": "code",
      "source": [
        "df.iloc[0:2]\n",
        "\n",
        "#NOTE:\n",
        "# It displays value b/w [0th index(start) : 2nd index(stop)]\n",
        "# Index: 0,1 get printed from series"
      ],
      "metadata": {
        "colab": {
          "base_uri": "https://localhost:8080/"
        },
        "id": "QbO8bw0fMMZF",
        "outputId": "aa9951e1-54db-45b6-b152-74ec87c89016"
      },
      "execution_count": null,
      "outputs": [
        {
          "output_type": "execute_result",
          "data": {
            "text/plain": [
              "Maths      98\n",
              "Science    99\n",
              "dtype: int64"
            ]
          },
          "metadata": {},
          "execution_count": 31
        }
      ]
    },
    {
      "cell_type": "code",
      "source": [
        "df.loc['Tamil':]\n",
        "\n",
        "#NOTE:\n",
        "# Displays value from index_name['Tamil':] to last\n",
        "# i.e.., <Tamil, English, Social> "
      ],
      "metadata": {
        "colab": {
          "base_uri": "https://localhost:8080/"
        },
        "id": "n5lbmiCVNTAT",
        "outputId": "c31d6ea1-77ab-4bf6-e70a-20cd54b4e099"
      },
      "execution_count": null,
      "outputs": [
        {
          "output_type": "execute_result",
          "data": {
            "text/plain": [
              "Tamil      89\n",
              "English    91\n",
              "Social     95\n",
              "dtype: int64"
            ]
          },
          "metadata": {},
          "execution_count": 32
        }
      ]
    },
    {
      "cell_type": "code",
      "source": [
        "df.loc['Tamil':'English']\n",
        "\n",
        "#NOTE:\n",
        "# Displays value from index_name['Tamil':'English'] to last\n",
        "# i.e.., <Tamil & English> "
      ],
      "metadata": {
        "colab": {
          "base_uri": "https://localhost:8080/"
        },
        "id": "-z_oRCbxON_9",
        "outputId": "dcedd161-746c-49cd-f8f6-2f52f0ae5ed4"
      },
      "execution_count": null,
      "outputs": [
        {
          "output_type": "execute_result",
          "data": {
            "text/plain": [
              "Tamil      89\n",
              "English    91\n",
              "dtype: int64"
            ]
          },
          "metadata": {},
          "execution_count": 33
        }
      ]
    },
    {
      "cell_type": "markdown",
      "source": [
        "**Example: 3**\n",
        "\n",
        "# < sorting index >"
      ],
      "metadata": {
        "id": "d4U3yboNPrAZ"
      }
    },
    {
      "cell_type": "code",
      "source": [
        "df.sort_index(ascending = True)\n",
        "\n",
        "#NOTE:\n",
        "# sort our index --> Alphabetical (A-Z) order\n",
        "# Ascending alphabet index"
      ],
      "metadata": {
        "colab": {
          "base_uri": "https://localhost:8080/"
        },
        "id": "Uras8-CXQNPL",
        "outputId": "5a5a5fe7-11b7-48e6-be98-26dce271aace"
      },
      "execution_count": null,
      "outputs": [
        {
          "output_type": "execute_result",
          "data": {
            "text/plain": [
              "English    91\n",
              "Maths      98\n",
              "Science    99\n",
              "Social     95\n",
              "Tamil      89\n",
              "dtype: int64"
            ]
          },
          "metadata": {},
          "execution_count": 34
        }
      ]
    },
    {
      "cell_type": "code",
      "source": [
        "df.sort_index(ascending = False)\n",
        "\n",
        "#NOTE:\n",
        "# sort our index --> Alphabetical (Z-A) order\n",
        "# Descending alphabet index"
      ],
      "metadata": {
        "colab": {
          "base_uri": "https://localhost:8080/"
        },
        "id": "pjSit8LvQmqE",
        "outputId": "d01c41bd-7fbd-4a4d-a80a-5ad690073e27"
      },
      "execution_count": null,
      "outputs": [
        {
          "output_type": "execute_result",
          "data": {
            "text/plain": [
              "Tamil      89\n",
              "Social     95\n",
              "Science    99\n",
              "Maths      98\n",
              "English    91\n",
              "dtype: int64"
            ]
          },
          "metadata": {},
          "execution_count": 36
        }
      ]
    },
    {
      "cell_type": "markdown",
      "source": [
        " **Example: 4**\n",
        "\n",
        "# <sorting values(Marks)>"
      ],
      "metadata": {
        "id": "bm9EWfz6R59F"
      }
    },
    {
      "cell_type": "code",
      "source": [
        "df.sort_values(ascending = True)\n",
        "\n",
        "#NOTE:\n",
        "# sort our mark --> Mark (low to high) order\n",
        "# Ascending marks value"
      ],
      "metadata": {
        "colab": {
          "base_uri": "https://localhost:8080/"
        },
        "id": "Ajw2ScTxRYqu",
        "outputId": "071c8b15-360f-4933-833e-d3f81b157da4"
      },
      "execution_count": null,
      "outputs": [
        {
          "output_type": "execute_result",
          "data": {
            "text/plain": [
              "Tamil      89\n",
              "English    91\n",
              "Social     95\n",
              "Maths      98\n",
              "Science    99\n",
              "dtype: int64"
            ]
          },
          "metadata": {},
          "execution_count": 37
        }
      ]
    },
    {
      "cell_type": "code",
      "source": [
        "df.sort_values(ascending = False)\n",
        "\n",
        "#NOTE:\n",
        "# sort our mark --> Mark (high to low) order\n",
        "# Descending marks value"
      ],
      "metadata": {
        "colab": {
          "base_uri": "https://localhost:8080/"
        },
        "id": "dOVz-tbSShxz",
        "outputId": "bdf960d7-5828-4dbc-bc96-0f406c20da49"
      },
      "execution_count": null,
      "outputs": [
        {
          "output_type": "execute_result",
          "data": {
            "text/plain": [
              "Science    99\n",
              "Maths      98\n",
              "Social     95\n",
              "English    91\n",
              "Tamil      89\n",
              "dtype: int64"
            ]
          },
          "metadata": {},
          "execution_count": 40
        }
      ]
    },
    {
      "cell_type": "markdown",
      "source": [
        "**Example: 5**\n",
        "\n",
        "# [ rank ---> Descending & Ascending ]\n"
      ],
      "metadata": {
        "id": "sok0V_59b9pA"
      }
    },
    {
      "cell_type": "code",
      "source": [
        "df.rank(ascending = False)\n",
        "\n",
        "#NOTE:\n",
        "# from highest mark it gives Ranking\n",
        "# DESCENDING wise"
      ],
      "metadata": {
        "colab": {
          "base_uri": "https://localhost:8080/"
        },
        "id": "8AuRjBbgbjDy",
        "outputId": "a56f9f53-8bcf-4ced-90dd-b53fbba84d65"
      },
      "execution_count": null,
      "outputs": [
        {
          "output_type": "execute_result",
          "data": {
            "text/plain": [
              "Maths      2.0\n",
              "Science    1.0\n",
              "Tamil      5.0\n",
              "English    4.0\n",
              "Social     3.0\n",
              "dtype: float64"
            ]
          },
          "metadata": {},
          "execution_count": 42
        }
      ]
    },
    {
      "cell_type": "code",
      "source": [
        "df.rank(ascending = True)\n",
        "\n",
        "#NOTE:\n",
        "# from lowest mark it gives Ranking\n",
        "# ASCENDING wise"
      ],
      "metadata": {
        "colab": {
          "base_uri": "https://localhost:8080/"
        },
        "id": "5NpD4n-xc_QM",
        "outputId": "3dfce2a7-d1ad-43e3-f48f-8f8e3df15973"
      },
      "execution_count": null,
      "outputs": [
        {
          "output_type": "execute_result",
          "data": {
            "text/plain": [
              "Maths      4.0\n",
              "Science    5.0\n",
              "Tamil      1.0\n",
              "English    2.0\n",
              "Social     3.0\n",
              "dtype: float64"
            ]
          },
          "metadata": {},
          "execution_count": 43
        }
      ]
    },
    {
      "cell_type": "markdown",
      "source": [
        "**Example:6**\n",
        "\n",
        "# Insert, Update, Multiply, Lambda"
      ],
      "metadata": {
        "id": "TVtuYjxWfhXK"
      }
    },
    {
      "cell_type": "code",
      "source": [
        "import pandas as pd\n",
        "Subject = [\"Maths\", \"Science\", \"Tamil\", \"English\", \"Social\"]\n",
        "mark = [98, 99, 89, 91, 95]\n",
        "df = pd.Series(mark, index = Subject)\n",
        "df"
      ],
      "metadata": {
        "colab": {
          "base_uri": "https://localhost:8080/"
        },
        "id": "xgkVbbRWfccq",
        "outputId": "d50ac3b2-31cb-408d-eb36-9bc5c1e854d1"
      },
      "execution_count": null,
      "outputs": [
        {
          "output_type": "execute_result",
          "data": {
            "text/plain": [
              "Maths      98\n",
              "Science    99\n",
              "Tamil      89\n",
              "English    91\n",
              "Social     95\n",
              "dtype: int64"
            ]
          },
          "metadata": {},
          "execution_count": 44
        }
      ]
    },
    {
      "cell_type": "code",
      "source": [
        "df[\"French\"] = 75\n",
        "df\n",
        "\n",
        "#NOTE:\n",
        "# \"French\" INSERTED in series"
      ],
      "metadata": {
        "colab": {
          "base_uri": "https://localhost:8080/"
        },
        "id": "I5FOeDjMf6uA",
        "outputId": "8725fe28-96de-454b-a6dc-d7a88eb85530"
      },
      "execution_count": null,
      "outputs": [
        {
          "output_type": "execute_result",
          "data": {
            "text/plain": [
              "Maths      98\n",
              "Science    99\n",
              "Tamil      89\n",
              "English    91\n",
              "Social     95\n",
              "French     75\n",
              "dtype: int64"
            ]
          },
          "metadata": {},
          "execution_count": 45
        }
      ]
    },
    {
      "cell_type": "code",
      "source": [
        "df.iloc[5] = 80\n",
        "df\n",
        "\n",
        "#NOTE:\n",
        "# \"French mark\" get updated using iloc(index) \n",
        "# 75 UPDATE as 80"
      ],
      "metadata": {
        "colab": {
          "base_uri": "https://localhost:8080/"
        },
        "id": "jBmP4HAegPD6",
        "outputId": "c3872efb-8878-426a-bf6d-1075509ffccf"
      },
      "execution_count": null,
      "outputs": [
        {
          "output_type": "execute_result",
          "data": {
            "text/plain": [
              "Maths       98\n",
              "Science     99\n",
              "Tamil       89\n",
              "English     91\n",
              "Social     100\n",
              "French      80\n",
              "dtype: int64"
            ]
          },
          "metadata": {},
          "execution_count": 51
        }
      ]
    },
    {
      "cell_type": "code",
      "source": [
        "df.loc[\"Social\"] = 100\n",
        "df\n",
        "\n",
        "#NOTE:\n",
        "# \"social mark\" get updated using loc(position name) \n",
        "# 95 gets UPDATE as 100"
      ],
      "metadata": {
        "colab": {
          "base_uri": "https://localhost:8080/"
        },
        "id": "XBFievV3hiir",
        "outputId": "5f958c59-316c-4b5d-8a8f-9aa637226ff0"
      },
      "execution_count": null,
      "outputs": [
        {
          "output_type": "execute_result",
          "data": {
            "text/plain": [
              "Maths       98\n",
              "Science     99\n",
              "Tamil       89\n",
              "English     91\n",
              "Social     100\n",
              "French      80\n",
              "dtype: int64"
            ]
          },
          "metadata": {},
          "execution_count": 50
        }
      ]
    },
    {
      "cell_type": "code",
      "source": [
        "df1 = df*1000\n",
        "df1\n",
        "\n",
        "#NOTE:\n",
        "# Marks got MULTIPLIED  ---> df*2\n",
        "# while multiply, add, powerof, etc.., --> Mention \"df*14 | df**3 | df+1000\" in separate variable name \"df1\""
      ],
      "metadata": {
        "colab": {
          "base_uri": "https://localhost:8080/"
        },
        "id": "Qop8_HNCiCPo",
        "outputId": "f7af26c1-a67c-4185-fd6e-2d39a285c18f"
      },
      "execution_count": null,
      "outputs": [
        {
          "output_type": "execute_result",
          "data": {
            "text/plain": [
              "Maths       98000\n",
              "Science     99000\n",
              "Tamil       89000\n",
              "English     91000\n",
              "Social     100000\n",
              "French      80000\n",
              "dtype: int64"
            ]
          },
          "metadata": {},
          "execution_count": 55
        }
      ]
    },
    {
      "cell_type": "code",
      "source": [
        "df"
      ],
      "metadata": {
        "colab": {
          "base_uri": "https://localhost:8080/"
        },
        "id": "FmJgcX_BjsZX",
        "outputId": "2ef5dd58-0edf-4e08-a18b-9a8f798e8c1d"
      },
      "execution_count": null,
      "outputs": [
        {
          "output_type": "execute_result",
          "data": {
            "text/plain": [
              "Maths       98\n",
              "Science     99\n",
              "Tamil       89\n",
              "English     91\n",
              "Social     100\n",
              "French      80\n",
              "dtype: int64"
            ]
          },
          "metadata": {},
          "execution_count": 56
        }
      ]
    },
    {
      "cell_type": "code",
      "source": [
        "list(map(lambda x: x+x, df))\n",
        "\n",
        "#NOTE:\n",
        "# By LAMBDA function we adding mark again by its respective mark\n",
        "# i.e., Maths => 98+98 =196"
      ],
      "metadata": {
        "colab": {
          "base_uri": "https://localhost:8080/"
        },
        "id": "csauSZcvj7xo",
        "outputId": "8820c04b-e512-48d3-a605-9ec2e06bcf48"
      },
      "execution_count": null,
      "outputs": [
        {
          "output_type": "execute_result",
          "data": {
            "text/plain": [
              "[196, 198, 178, 182, 200, 160]"
            ]
          },
          "metadata": {},
          "execution_count": 58
        }
      ]
    }
  ]
}